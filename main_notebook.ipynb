{
 "cells": [
  {
   "cell_type": "code",
   "id": "initial_id",
   "metadata": {
    "collapsed": true,
    "ExecuteTime": {
     "end_time": "2024-04-10T19:56:22.527604Z",
     "start_time": "2024-04-10T19:56:22.525143Z"
    }
   },
   "source": [
    "import numpy as np\n",
    "import pandas as pd\n",
    "import plotly.express as px\n"
   ],
   "outputs": [],
   "execution_count": 106
  },
  {
   "metadata": {
    "ExecuteTime": {
     "end_time": "2024-04-10T20:01:51.220705Z",
     "start_time": "2024-04-10T20:01:51.214506Z"
    }
   },
   "cell_type": "code",
   "source": [
    "c = np.float128(299792458)\n",
    "velocityDir = np.array([1, -1], dtype=np.float128)\n",
    "velocityDir /= np.linalg.norm(velocityDir)\n",
    "speed = 0.96 * c * velocityDir\n",
    "display (np.linalg.norm(speed))\n",
    "mm = 1e3\n",
    "\n",
    "position = np.array([-5, 5], dtype=np.float128)\n",
    "charge = np.float128(1.602176634e-19)\n",
    "charge2 = np.square(charge)\n",
    "kE = np.float128(1.602e-10)\n",
    "m0 = np.float128(1.6726e-27)\n",
    "\n",
    "\n",
    "def lorentz_fac(speed_):\n",
    "    return 1/np.sqrt(1 - np.square(np.linalg.norm(speed_)/299792458))\n",
    "def sc_force(charge2_, speed_, position_):\n",
    "    sp_mag = np.linalg.norm(speed_)\n",
    "    return 10e-7 * charge2_ * sp_mag * np.sin(np.arccos(speed_[1]/sp_mag)) / (4 * np.square(position_[1]))\n",
    "def get_acc_from_force(m0_, lorentz_fac_, force_, speed_):\n",
    "    return (1/(m0_ * lorentz_fac_)) * (force_ - (speed_ * np.dot(force_, speed_)/np.square(c)))"
   ],
   "id": "9346ffeadbbe87ce",
   "outputs": [
    {
     "data": {
      "text/plain": [
       "287800759.67999998934"
      ]
     },
     "metadata": {},
     "output_type": "display_data"
    }
   ],
   "execution_count": 111
  },
  {
   "metadata": {
    "ExecuteTime": {
     "end_time": "2024-04-10T20:06:09.290794Z",
     "start_time": "2024-04-10T20:01:51.572778Z"
    }
   },
   "cell_type": "code",
   "source": [
    "maxacc = np.array([0, 0])\n",
    "while position[0] < 10:\n",
    "    dt = np.float128(np.power(10, -14 + (1 - np.abs(position[0] / 10)) * -18))\n",
    "    if(dt == np.float128(0.0)):\n",
    "        display(dt)\n",
    "        break\n",
    "    lorentz = lorentz_fac(speed)\n",
    "    force = np.array([-speed[1], speed[0]]) * sc_force(charge2, speed, position / mm)\n",
    "    acceleration = get_acc_from_force(m0, lorentz, force, speed)\n",
    "    speed += acceleration * dt\n",
    "    position += speed * mm * dt\n",
    "    if acceleration[1] > maxacc[1]:\n",
    "        maxacc = acceleration\n",
    "    "
   ],
   "id": "2c2bc4abd619d9dd",
   "outputs": [
    {
     "ename": "KeyboardInterrupt",
     "evalue": "",
     "output_type": "error",
     "traceback": [
      "\u001B[0;31m---------------------------------------------------------------------------\u001B[0m",
      "\u001B[0;31mKeyboardInterrupt\u001B[0m                         Traceback (most recent call last)",
      "Cell \u001B[0;32mIn[112], line 2\u001B[0m\n\u001B[1;32m      1\u001B[0m maxacc \u001B[38;5;241m=\u001B[39m np\u001B[38;5;241m.\u001B[39marray([\u001B[38;5;241m0\u001B[39m, \u001B[38;5;241m0\u001B[39m])\n\u001B[0;32m----> 2\u001B[0m \u001B[38;5;28;01mwhile\u001B[39;00m position[\u001B[38;5;241m0\u001B[39m] \u001B[38;5;241m<\u001B[39m \u001B[38;5;241m10\u001B[39m:\n\u001B[1;32m      3\u001B[0m     dt \u001B[38;5;241m=\u001B[39m np\u001B[38;5;241m.\u001B[39mfloat128(np\u001B[38;5;241m.\u001B[39mpower(\u001B[38;5;241m10\u001B[39m, \u001B[38;5;241m-\u001B[39m\u001B[38;5;241m14\u001B[39m \u001B[38;5;241m+\u001B[39m (\u001B[38;5;241m1\u001B[39m \u001B[38;5;241m-\u001B[39m np\u001B[38;5;241m.\u001B[39mabs(position[\u001B[38;5;241m0\u001B[39m] \u001B[38;5;241m/\u001B[39m \u001B[38;5;241m10\u001B[39m)) \u001B[38;5;241m*\u001B[39m \u001B[38;5;241m-\u001B[39m\u001B[38;5;241m18\u001B[39m))\n\u001B[1;32m      4\u001B[0m     \u001B[38;5;28;01mif\u001B[39;00m(dt \u001B[38;5;241m==\u001B[39m np\u001B[38;5;241m.\u001B[39mfloat128(\u001B[38;5;241m0.0\u001B[39m)):\n",
      "\u001B[0;31mKeyboardInterrupt\u001B[0m: "
     ]
    }
   ],
   "execution_count": 112
  },
  {
   "metadata": {
    "ExecuteTime": {
     "end_time": "2024-04-10T19:42:37.592433Z",
     "start_time": "2024-04-10T19:42:37.588769Z"
    }
   },
   "cell_type": "code",
   "source": "np.linalg.norm(speed)",
   "id": "fd8db9496e2fbf03",
   "outputs": [
    {
     "data": {
      "text/plain": [
       "290208932.53055395765"
      ]
     },
     "execution_count": 85,
     "metadata": {},
     "output_type": "execute_result"
    }
   ],
   "execution_count": 85
  },
  {
   "metadata": {
    "ExecuteTime": {
     "end_time": "2024-04-10T19:55:45.572125Z",
     "start_time": "2024-04-10T19:55:45.568704Z"
    }
   },
   "cell_type": "code",
   "source": "np.float128(5e-32) - np.float128(1e-14)",
   "id": "2329b0bddf87157",
   "outputs": [
    {
     "data": {
      "text/plain": [
       "-9.999999999999999938e-15"
      ]
     },
     "execution_count": 105,
     "metadata": {},
     "output_type": "execute_result"
    }
   ],
   "execution_count": 105
  },
  {
   "metadata": {},
   "cell_type": "code",
   "outputs": [],
   "execution_count": null,
   "source": "",
   "id": "9d3bb76ea5199823"
  }
 ],
 "metadata": {
  "kernelspec": {
   "display_name": "Python 3",
   "language": "python",
   "name": "python3"
  },
  "language_info": {
   "codemirror_mode": {
    "name": "ipython",
    "version": 2
   },
   "file_extension": ".py",
   "mimetype": "text/x-python",
   "name": "python",
   "nbconvert_exporter": "python",
   "pygments_lexer": "ipython2",
   "version": "2.7.6"
  }
 },
 "nbformat": 4,
 "nbformat_minor": 5
}
